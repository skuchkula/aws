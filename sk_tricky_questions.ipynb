{
 "cells": [
  {
   "cell_type": "markdown",
   "metadata": {},
   "source": [
    "## Tricky Sneaky Nasty questions\n",
    "\n",
    "### EBS vs S3 for storing logs\n",
    "![](images/t1.png)\n",
    "\n",
    "### S3 notifications\n",
    "![](images/t2.png)\n",
    "\n",
    "### Difference between SSE-KMS and SSE-S3 \n",
    "![](images/t3.png)\n",
    "\n",
    "### AWS SAM CLI\n",
    "![](images/t4.png)"
   ]
  },
  {
   "cell_type": "markdown",
   "metadata": {},
   "source": [
    "### AppSpec.yml order of hooks\n",
    "![](images/t5.png)\n",
    "\n",
    "### ECS *Task Placement Group* vs *Cluster Query Language*\n",
    "![](images/t6.png)\n",
    "\n",
    "### AWS Secrets Manager\n",
    "![](images/t7.png)\n",
    "\n",
    "### Route 53 Weighted Routing Policy\n",
    "![](images/t8.png)\n",
    "\n",
    "### `.ebextenstions` to control BeanStalk's configuraiton\n",
    "![](images/t9.png)\n",
    "\n",
    "### Kinesis Streams and Shards\n",
    "![](images/t10.png)\n",
    "\n",
    "### CloudFront Edge Location Cache Invalidation\n",
    "![](images/t11.png)\n",
    "\n",
    "### SAR template for Serverless function\n",
    "![](images/t12.png)\n",
    "\n",
    "### CodeDeploy Dev, Test, Prod\n",
    "![](images/t13.png)\n",
    "\n",
    "### S3 when nothing else work\n",
    "![](images/t14.png)\n",
    "\n",
    "### CloudWatch Stand-Resolution vs High-Resolution metrics\n",
    "![](images/t15.png)\n",
    "\n",
    "### Target tracking scaling policy\n",
    "![](images/t16.png)\n",
    "\n",
    "### Task Placement Group `=~` weird syntax means `memberOf`\n",
    "![](images/t17.png)\n",
    "\n",
    "### Auto-Scaling Groups and Custom CloudWatch metrics\n",
    "![](images/t18.png)\n",
    "\n",
    "### CloudWatch Logs  and SNS notifications\n",
    "![](images/t19.png)\n",
    "\n",
    "### CloudFront HTTPs encryption b/w client and b/w CF and Origin\n",
    "![](images/t20.png)\n"
   ]
  },
  {
   "cell_type": "markdown",
   "metadata": {},
   "source": [
    "## Really Cool Questions\n",
    "### Difference b/w `Data Encryption Key` and `CMK`\n",
    "> To encrypt large quantities of data with the AWS Key Management Service (KMS), you must use a data encryption key rather than a customer master keys (CMK). This is because a CMK can only encrypt up to 4KB in a single operation and in this scenario the objects are 1 GB in size.\n",
    "![](images/cool.png)\n",
    "![](images/cool1.png)\n",
    "\n",
    "\n",
    "### SQS FIFO queues `MessageDeduplicationID` vs `MessageGroupID`\n",
    "![](images/cool2.png)\n",
    "\n",
    "[SQS Cheat sheet](https://digitalcloud.training/certification-training/aws-developer-associate/aws-application-integration/amazon-sqs/)\n",
    "\n"
   ]
  },
  {
   "cell_type": "markdown",
   "metadata": {},
   "source": [
    "## Data Engineer Questions\n",
    "### Kinesis Data Streams Shards\n",
    "![](images/de.png)\n",
    "\n",
    "- CORRECT: “Merge the cold shards to decrease the capacity of the stream” is the correct answer.\n",
    "\n",
    "- INCORRECT: “Split the cold shards to increase the capacity of the stream” is incorrect as this would increase the cost of the stream as you are charged on a per-shard basis.\n",
    "\n",
    "- INCORRECT: “Replace the shards with fewer, higher-capacity shards” is incorrect you cannot change the capacity of shards. However, it is wise to reduce the number of shards in this scenario.\n",
    "\n",
    "- INCORRECT: “Reduce the number of EC2 instances” is incorrect as this will not reduce the cost of the Kinesis Data Stream (consumers are EC2 instances that process the data). In this case we need to decrease the number of shards as they are underutilized. We also don’t know from the question how many EC2 instances there are, the optimum number is equal to the number of shards so decreasing below this ratio would result in not having enough consumers to process the data in the shards.\n",
    "\n",
    "### Caching Strategies: Write through vs Lazy Loading\n",
    "![](images/de1.png)\n",
    "- CORRECT: “Use a lazy loading caching strategy” is the correct answer.\n",
    "\n",
    "- INCORRECT: “Use a write-through caching strategy” is incorrect as this will load all database items into the cache increasing cost.\n",
    "\n",
    "- INCORRECT: “Only cache database writes” is incorrect as you cannot cache writes, only reads.\n",
    "\n",
    "- INCORRECT: “Enable a TTL on cached data” is incorrect. This would help expire stale items but it is not a cache optimization strategy that will cache only items that are requested.\n",
    "\n",
    "### SNS weds SQS\n",
    "![](images/de2.png)\n",
    "\n",
    "- CORRECT: “Publish the messages to an Amazon SNS topic and subscribe each SQS queue to the topic” is the correct answer.\n",
    "\n",
    "- INCORRECT: “Publish the messages to an Amazon SQS queue and configure an AWS Lambda function to duplicate the message into multiple queues” is incorrect as this seems like an inefficient solution. By using SNS we can eliminate the initial queue and Lambda function.\n",
    "\n",
    "- INCORRECT: “Create an Amazon SWF workflow that receives the messages and pushes them to multiple SQS queues” is incorrect as this is not a workable solution. Amazon SWF is not suitable for pushing messages to SQS queues.\n",
    "\n",
    "- INCORRECT: Create and AWS Step Functions state machine that uses multiple Lambda functions to process and push the messages into multiple SQS queues”” is incorrect as this is an inefficient solution and there is not mention on how the functions will be invoked with the message data\n",
    "\n"
   ]
  },
  {
   "cell_type": "markdown",
   "metadata": {},
   "source": [
    "## Ugly Security Questions\n",
    "\n",
    "### What the heck are EC2 Instance profiles?\n",
    "![](images/us.png)\n",
    "\n",
    "### Developer-authenticated identities .. eh?\n",
    "![](images/us1.png)\n",
    "\n"
   ]
  },
  {
   "cell_type": "code",
   "execution_count": null,
   "metadata": {},
   "outputs": [],
   "source": []
  }
 ],
 "metadata": {
  "kernelspec": {
   "display_name": "Python 3",
   "language": "python",
   "name": "python3"
  },
  "language_info": {
   "codemirror_mode": {
    "name": "ipython",
    "version": 3
   },
   "file_extension": ".py",
   "mimetype": "text/x-python",
   "name": "python",
   "nbconvert_exporter": "python",
   "pygments_lexer": "ipython3",
   "version": "3.7.3"
  }
 },
 "nbformat": 4,
 "nbformat_minor": 2
}
