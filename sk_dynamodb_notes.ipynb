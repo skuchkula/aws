{
 "cells": [
  {
   "cell_type": "markdown",
   "metadata": {},
   "source": [
    "## DynamoDB Concepts\n",
    "- Tables\n",
    "- Items\n",
    "- Attributes\n",
    "\n",
    "Resources:\n",
    "- Tables\n",
    "    - Indexes\n",
    "    - Streams\n",
    "    \n",
    "* Read Capacity Units\n",
    "* Write Capacity Units\n",
    "\n",
    "* Understand ProvisionedThroughput\n",
    "* Understand **Partitions**\n",
    "* Understand **Global Tables**\n",
    "* Local Secondary Indexes\n",
    "\n",
    "\n",
    "## DynamoDB questions\n",
    "\n",
    "### Parallel Scans and limiting rates\n",
    "![](images/q1.png)\n",
    "\n",
    "### RCUs calculation\n",
    "![](images/q2.png)\n",
    "\n",
    "### ConsumedReadCapacityUnits\n",
    "![](images/q3.png)\n",
    "\n",
    "### Restrict access to items\n",
    "![](images/q4.png)\n"
   ]
  },
  {
   "cell_type": "markdown",
   "metadata": {},
   "source": [
    "### Exponential backoff\n",
    "![](images/q5.png)\n",
    "\n",
    "### Consumed throughput being well below the Provisioned throughput.\n",
    "\n",
    "### Primary Key and Composite Key\n",
    "![](images/q6.png)\n",
    "\n",
    "### Global Secondary Index question\n",
    "![](images/q7.png)\n",
    "\n",
    "### GSI or LSI based question\n",
    "![](images/q8.png)\n",
    "\n",
    "### GSI and Write Capacity Units\n",
    "![](images/q10.png)\n",
    "\n",
    "### Finally a DAX question\n",
    "![](images/q9.png)\n",
    "\n",
    "### Given WCU choose a suitable RCU\n",
    "![](images/q11.png)\n",
    "\n",
    "### TTL on items\n",
    "![](images/q12.png)\n",
    "\n"
   ]
  },
  {
   "cell_type": "code",
   "execution_count": null,
   "metadata": {},
   "outputs": [],
   "source": []
  },
  {
   "cell_type": "code",
   "execution_count": null,
   "metadata": {},
   "outputs": [],
   "source": []
  },
  {
   "cell_type": "code",
   "execution_count": null,
   "metadata": {},
   "outputs": [],
   "source": []
  }
 ],
 "metadata": {
  "kernelspec": {
   "display_name": "Python 3",
   "language": "python",
   "name": "python3"
  },
  "language_info": {
   "codemirror_mode": {
    "name": "ipython",
    "version": 3
   },
   "file_extension": ".py",
   "mimetype": "text/x-python",
   "name": "python",
   "nbconvert_exporter": "python",
   "pygments_lexer": "ipython3",
   "version": "3.7.3"
  }
 },
 "nbformat": 4,
 "nbformat_minor": 2
}
