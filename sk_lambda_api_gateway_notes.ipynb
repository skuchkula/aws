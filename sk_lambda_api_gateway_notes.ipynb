{
 "cells": [
  {
   "cell_type": "markdown",
   "metadata": {},
   "source": [
    "## Questions\n",
    "\n",
    "### lambda authorizer\n",
    "![](images/l1.png)\n",
    "\n",
    "### mapping template\n",
    "![](images/l2.png)\n",
    "\n",
    "### Periodically invoke a Lambda function\n",
    "![](images/l3.png)\n",
    "\n",
    "### Lambda Concurrency\n",
    "![](images/l4.png)\n",
    "![](images/l5.png)\n",
    "\n",
    "### Lambda Concurrency again\n",
    "![](images/l10.png)\n",
    "\n",
    "### Lambda /tmp\n",
    "![](images/l6.png)\n",
    "\n",
    "### Lambda Retries\n",
    "![](images/l7.png)\n",
    "\n",
    "### Async Response code 202\n",
    "![](images/l8.png)\n",
    "\n",
    "### You allocate memory Lambda will allocate CPU\n",
    "> Lambda is Serverless so you can't choose the instance type. Only allocate memory and let the service decide the rest.\n",
    "![](images/l9.png)\n",
    "\n",
    "### What to Zip and what not to Zip?\n",
    "![](images/l11.png)\n",
    "\n",
    "### I am going live, I will give you 60 days to migrate\n",
    "![](images/l12.png)\n",
    "\n",
    "\n"
   ]
  },
  {
   "cell_type": "code",
   "execution_count": null,
   "metadata": {},
   "outputs": [],
   "source": []
  },
  {
   "cell_type": "code",
   "execution_count": null,
   "metadata": {},
   "outputs": [],
   "source": []
  }
 ],
 "metadata": {
  "kernelspec": {
   "display_name": "Python 3",
   "language": "python",
   "name": "python3"
  },
  "language_info": {
   "codemirror_mode": {
    "name": "ipython",
    "version": 3
   },
   "file_extension": ".py",
   "mimetype": "text/x-python",
   "name": "python",
   "nbconvert_exporter": "python",
   "pygments_lexer": "ipython3",
   "version": "3.7.3"
  }
 },
 "nbformat": 4,
 "nbformat_minor": 2
}
