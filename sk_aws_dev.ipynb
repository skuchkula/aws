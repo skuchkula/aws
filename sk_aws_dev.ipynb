{
 "cells": [
  {
   "cell_type": "markdown",
   "metadata": {},
   "source": [
    "## AWS Developer Associate questions"
   ]
  },
  {
   "cell_type": "markdown",
   "metadata": {},
   "source": [
    "## DynamoDB"
   ]
  },
  {
   "cell_type": "markdown",
   "metadata": {},
   "source": [
    "![](images/dynamodb2.PNG)"
   ]
  },
  {
   "cell_type": "markdown",
   "metadata": {},
   "source": [
    "![](images/dynamodb3.png)"
   ]
  },
  {
   "cell_type": "markdown",
   "metadata": {},
   "source": [
    "## AWS Elastic BeanStalk\n",
    "\n",
    "![](images/aws_elasticbs1.png)"
   ]
  },
  {
   "cell_type": "markdown",
   "metadata": {},
   "source": [
    "## Cognito\n",
    "![](images/Cognito1.PNG)\n",
    "\n",
    "**Cognito Links**:\n",
    "* [FAQs](https://aws.amazon.com/cognito/faqs/)\n",
    "\n",
    "![](images/Cognito2.png)\n",
    "\n",
    "[https://aws.amazon.com/premiumsupport/knowledge-center/cognito-custom-scopes-api-gateway/](https://aws.amazon.com/premiumsupport/knowledge-center/cognito-custom-scopes-api-gateway/)"
   ]
  },
  {
   "cell_type": "markdown",
   "metadata": {},
   "source": [
    "## VPC questions\n",
    "\n",
    "![](images/vpc1.png)"
   ]
  },
  {
   "cell_type": "markdown",
   "metadata": {},
   "source": [
    "## CloudWatch questions\n",
    "![](images/cloudwatch1.png)"
   ]
  },
  {
   "cell_type": "markdown",
   "metadata": {},
   "source": [
    "## API Gateway questions\n",
    "\n",
    "![](images/api_gateway1.png)"
   ]
  },
  {
   "cell_type": "markdown",
   "metadata": {},
   "source": [
    "## AWS Lambda questions\n",
    "\n",
    "![](images/aws_lambda1.png)\n",
    "\n",
    "* [Scaling Lambda functions](https://serverless.zone/my-accidental-3-5x-speed-increase-of-aws-lambda-functions-6d95351197f3)\n",
    "\n",
    "![](images/aws_lambda2.png)\n",
    "\n",
    "### AWS Lambda security questions\n",
    "\n",
    "![](images/aws_lambda3.png)"
   ]
  },
  {
   "cell_type": "markdown",
   "metadata": {},
   "source": [
    "## Loadbalancing questions\n",
    "\n",
    "![](images/loadbalancing1.png)"
   ]
  },
  {
   "cell_type": "markdown",
   "metadata": {},
   "source": [
    "## AWS X-Ray\n",
    "\n",
    "![](images/aws-xray1.png)"
   ]
  },
  {
   "cell_type": "markdown",
   "metadata": {},
   "source": [
    "# AWS Storage\n",
    "\n",
    "## AWS EBS\n",
    "\n",
    "![](images/aws_ebs1.png)"
   ]
  },
  {
   "cell_type": "markdown",
   "metadata": {},
   "source": []
  }
 ],
 "metadata": {
  "kernelspec": {
   "display_name": "Python 3",
   "language": "python",
   "name": "python3"
  },
  "language_info": {
   "codemirror_mode": {
    "name": "ipython",
    "version": 3
   },
   "file_extension": ".py",
   "mimetype": "text/x-python",
   "name": "python",
   "nbconvert_exporter": "python",
   "pygments_lexer": "ipython3",
   "version": "3.7.1"
  }
 },
 "nbformat": 4,
 "nbformat_minor": 2
}
